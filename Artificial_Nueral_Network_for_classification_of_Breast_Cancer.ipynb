{
  "nbformat": 4,
  "nbformat_minor": 0,
  "metadata": {
    "colab": {
      "provenance": [],
      "mount_file_id": "1KnB9OdwuDFUbMi8mF3eLNZUUMqal6BL_",
      "authorship_tag": "ABX9TyPTzIdHyN16yAj9FjlaQcT5",
      "include_colab_link": true
    },
    "kernelspec": {
      "name": "python3",
      "display_name": "Python 3"
    },
    "language_info": {
      "name": "python"
    },
    "accelerator": "GPU",
    "gpuClass": "standard"
  },
  "cells": [
    {
      "cell_type": "markdown",
      "metadata": {
        "id": "view-in-github",
        "colab_type": "text"
      },
      "source": [
        "<a href=\"https://colab.research.google.com/github/phaneendar9182/EXPLORARY-DATA-ANALYSIS/blob/main/Artificial_Nueral_Network_for_classification_of_Breast_Cancer.ipynb\" target=\"_parent\"><img src=\"https://colab.research.google.com/assets/colab-badge.svg\" alt=\"Open In Colab\"/></a>"
      ]
    },
    {
      "cell_type": "markdown",
      "source": [
        "**Importing the packages**"
      ],
      "metadata": {
        "id": "PvFnb_UjRWp9"
      }
    },
    {
      "cell_type": "code",
      "execution_count": 1,
      "metadata": {
        "id": "kwm-b0yooTql"
      },
      "outputs": [],
      "source": [
        "import numpy as np\n",
        "import pandas as pd\n",
        "import matplotlib.pyplot as plt\n",
        "import tensorflow \n",
        "import sklearn"
      ]
    },
    {
      "cell_type": "markdown",
      "source": [
        "**Load the data**"
      ],
      "metadata": {
        "id": "MMtbvLyzRdyX"
      }
    },
    {
      "cell_type": "code",
      "source": [
        "df=pd.read_csv('/content/drive/MyDrive/Dataset/breast-cancer.csv')"
      ],
      "metadata": {
        "id": "_kCFC46Qo-17"
      },
      "execution_count": 2,
      "outputs": []
    },
    {
      "cell_type": "code",
      "source": [
        "df.head()"
      ],
      "metadata": {
        "colab": {
          "base_uri": "https://localhost:8080/",
          "height": 317
        },
        "id": "mxO8aSIrpJ_R",
        "outputId": "646b2db5-6abd-4565-8652-e644b60d391f"
      },
      "execution_count": 3,
      "outputs": [
        {
          "output_type": "execute_result",
          "data": {
            "text/plain": [
              "         id diagnosis  radius_mean  texture_mean  perimeter_mean  area_mean  \\\n",
              "0    842302         M        17.99         10.38          122.80     1001.0   \n",
              "1    842517         M        20.57         17.77          132.90     1326.0   \n",
              "2  84300903         M        19.69         21.25          130.00     1203.0   \n",
              "3  84348301         M        11.42         20.38           77.58      386.1   \n",
              "4  84358402         M        20.29         14.34          135.10     1297.0   \n",
              "\n",
              "   smoothness_mean  compactness_mean  concavity_mean  concave points_mean  \\\n",
              "0          0.11840           0.27760          0.3001              0.14710   \n",
              "1          0.08474           0.07864          0.0869              0.07017   \n",
              "2          0.10960           0.15990          0.1974              0.12790   \n",
              "3          0.14250           0.28390          0.2414              0.10520   \n",
              "4          0.10030           0.13280          0.1980              0.10430   \n",
              "\n",
              "   ...  radius_worst  texture_worst  perimeter_worst  area_worst  \\\n",
              "0  ...         25.38          17.33           184.60      2019.0   \n",
              "1  ...         24.99          23.41           158.80      1956.0   \n",
              "2  ...         23.57          25.53           152.50      1709.0   \n",
              "3  ...         14.91          26.50            98.87       567.7   \n",
              "4  ...         22.54          16.67           152.20      1575.0   \n",
              "\n",
              "   smoothness_worst  compactness_worst  concavity_worst  concave points_worst  \\\n",
              "0            0.1622             0.6656           0.7119                0.2654   \n",
              "1            0.1238             0.1866           0.2416                0.1860   \n",
              "2            0.1444             0.4245           0.4504                0.2430   \n",
              "3            0.2098             0.8663           0.6869                0.2575   \n",
              "4            0.1374             0.2050           0.4000                0.1625   \n",
              "\n",
              "   symmetry_worst  fractal_dimension_worst  \n",
              "0          0.4601                  0.11890  \n",
              "1          0.2750                  0.08902  \n",
              "2          0.3613                  0.08758  \n",
              "3          0.6638                  0.17300  \n",
              "4          0.2364                  0.07678  \n",
              "\n",
              "[5 rows x 32 columns]"
            ],
            "text/html": [
              "\n",
              "  <div id=\"df-c69caba9-a92b-416c-8ec7-a399b345f553\">\n",
              "    <div class=\"colab-df-container\">\n",
              "      <div>\n",
              "<style scoped>\n",
              "    .dataframe tbody tr th:only-of-type {\n",
              "        vertical-align: middle;\n",
              "    }\n",
              "\n",
              "    .dataframe tbody tr th {\n",
              "        vertical-align: top;\n",
              "    }\n",
              "\n",
              "    .dataframe thead th {\n",
              "        text-align: right;\n",
              "    }\n",
              "</style>\n",
              "<table border=\"1\" class=\"dataframe\">\n",
              "  <thead>\n",
              "    <tr style=\"text-align: right;\">\n",
              "      <th></th>\n",
              "      <th>id</th>\n",
              "      <th>diagnosis</th>\n",
              "      <th>radius_mean</th>\n",
              "      <th>texture_mean</th>\n",
              "      <th>perimeter_mean</th>\n",
              "      <th>area_mean</th>\n",
              "      <th>smoothness_mean</th>\n",
              "      <th>compactness_mean</th>\n",
              "      <th>concavity_mean</th>\n",
              "      <th>concave points_mean</th>\n",
              "      <th>...</th>\n",
              "      <th>radius_worst</th>\n",
              "      <th>texture_worst</th>\n",
              "      <th>perimeter_worst</th>\n",
              "      <th>area_worst</th>\n",
              "      <th>smoothness_worst</th>\n",
              "      <th>compactness_worst</th>\n",
              "      <th>concavity_worst</th>\n",
              "      <th>concave points_worst</th>\n",
              "      <th>symmetry_worst</th>\n",
              "      <th>fractal_dimension_worst</th>\n",
              "    </tr>\n",
              "  </thead>\n",
              "  <tbody>\n",
              "    <tr>\n",
              "      <th>0</th>\n",
              "      <td>842302</td>\n",
              "      <td>M</td>\n",
              "      <td>17.99</td>\n",
              "      <td>10.38</td>\n",
              "      <td>122.80</td>\n",
              "      <td>1001.0</td>\n",
              "      <td>0.11840</td>\n",
              "      <td>0.27760</td>\n",
              "      <td>0.3001</td>\n",
              "      <td>0.14710</td>\n",
              "      <td>...</td>\n",
              "      <td>25.38</td>\n",
              "      <td>17.33</td>\n",
              "      <td>184.60</td>\n",
              "      <td>2019.0</td>\n",
              "      <td>0.1622</td>\n",
              "      <td>0.6656</td>\n",
              "      <td>0.7119</td>\n",
              "      <td>0.2654</td>\n",
              "      <td>0.4601</td>\n",
              "      <td>0.11890</td>\n",
              "    </tr>\n",
              "    <tr>\n",
              "      <th>1</th>\n",
              "      <td>842517</td>\n",
              "      <td>M</td>\n",
              "      <td>20.57</td>\n",
              "      <td>17.77</td>\n",
              "      <td>132.90</td>\n",
              "      <td>1326.0</td>\n",
              "      <td>0.08474</td>\n",
              "      <td>0.07864</td>\n",
              "      <td>0.0869</td>\n",
              "      <td>0.07017</td>\n",
              "      <td>...</td>\n",
              "      <td>24.99</td>\n",
              "      <td>23.41</td>\n",
              "      <td>158.80</td>\n",
              "      <td>1956.0</td>\n",
              "      <td>0.1238</td>\n",
              "      <td>0.1866</td>\n",
              "      <td>0.2416</td>\n",
              "      <td>0.1860</td>\n",
              "      <td>0.2750</td>\n",
              "      <td>0.08902</td>\n",
              "    </tr>\n",
              "    <tr>\n",
              "      <th>2</th>\n",
              "      <td>84300903</td>\n",
              "      <td>M</td>\n",
              "      <td>19.69</td>\n",
              "      <td>21.25</td>\n",
              "      <td>130.00</td>\n",
              "      <td>1203.0</td>\n",
              "      <td>0.10960</td>\n",
              "      <td>0.15990</td>\n",
              "      <td>0.1974</td>\n",
              "      <td>0.12790</td>\n",
              "      <td>...</td>\n",
              "      <td>23.57</td>\n",
              "      <td>25.53</td>\n",
              "      <td>152.50</td>\n",
              "      <td>1709.0</td>\n",
              "      <td>0.1444</td>\n",
              "      <td>0.4245</td>\n",
              "      <td>0.4504</td>\n",
              "      <td>0.2430</td>\n",
              "      <td>0.3613</td>\n",
              "      <td>0.08758</td>\n",
              "    </tr>\n",
              "    <tr>\n",
              "      <th>3</th>\n",
              "      <td>84348301</td>\n",
              "      <td>M</td>\n",
              "      <td>11.42</td>\n",
              "      <td>20.38</td>\n",
              "      <td>77.58</td>\n",
              "      <td>386.1</td>\n",
              "      <td>0.14250</td>\n",
              "      <td>0.28390</td>\n",
              "      <td>0.2414</td>\n",
              "      <td>0.10520</td>\n",
              "      <td>...</td>\n",
              "      <td>14.91</td>\n",
              "      <td>26.50</td>\n",
              "      <td>98.87</td>\n",
              "      <td>567.7</td>\n",
              "      <td>0.2098</td>\n",
              "      <td>0.8663</td>\n",
              "      <td>0.6869</td>\n",
              "      <td>0.2575</td>\n",
              "      <td>0.6638</td>\n",
              "      <td>0.17300</td>\n",
              "    </tr>\n",
              "    <tr>\n",
              "      <th>4</th>\n",
              "      <td>84358402</td>\n",
              "      <td>M</td>\n",
              "      <td>20.29</td>\n",
              "      <td>14.34</td>\n",
              "      <td>135.10</td>\n",
              "      <td>1297.0</td>\n",
              "      <td>0.10030</td>\n",
              "      <td>0.13280</td>\n",
              "      <td>0.1980</td>\n",
              "      <td>0.10430</td>\n",
              "      <td>...</td>\n",
              "      <td>22.54</td>\n",
              "      <td>16.67</td>\n",
              "      <td>152.20</td>\n",
              "      <td>1575.0</td>\n",
              "      <td>0.1374</td>\n",
              "      <td>0.2050</td>\n",
              "      <td>0.4000</td>\n",
              "      <td>0.1625</td>\n",
              "      <td>0.2364</td>\n",
              "      <td>0.07678</td>\n",
              "    </tr>\n",
              "  </tbody>\n",
              "</table>\n",
              "<p>5 rows × 32 columns</p>\n",
              "</div>\n",
              "      <button class=\"colab-df-convert\" onclick=\"convertToInteractive('df-c69caba9-a92b-416c-8ec7-a399b345f553')\"\n",
              "              title=\"Convert this dataframe to an interactive table.\"\n",
              "              style=\"display:none;\">\n",
              "        \n",
              "  <svg xmlns=\"http://www.w3.org/2000/svg\" height=\"24px\"viewBox=\"0 0 24 24\"\n",
              "       width=\"24px\">\n",
              "    <path d=\"M0 0h24v24H0V0z\" fill=\"none\"/>\n",
              "    <path d=\"M18.56 5.44l.94 2.06.94-2.06 2.06-.94-2.06-.94-.94-2.06-.94 2.06-2.06.94zm-11 1L8.5 8.5l.94-2.06 2.06-.94-2.06-.94L8.5 2.5l-.94 2.06-2.06.94zm10 10l.94 2.06.94-2.06 2.06-.94-2.06-.94-.94-2.06-.94 2.06-2.06.94z\"/><path d=\"M17.41 7.96l-1.37-1.37c-.4-.4-.92-.59-1.43-.59-.52 0-1.04.2-1.43.59L10.3 9.45l-7.72 7.72c-.78.78-.78 2.05 0 2.83L4 21.41c.39.39.9.59 1.41.59.51 0 1.02-.2 1.41-.59l7.78-7.78 2.81-2.81c.8-.78.8-2.07 0-2.86zM5.41 20L4 18.59l7.72-7.72 1.47 1.35L5.41 20z\"/>\n",
              "  </svg>\n",
              "      </button>\n",
              "      \n",
              "  <style>\n",
              "    .colab-df-container {\n",
              "      display:flex;\n",
              "      flex-wrap:wrap;\n",
              "      gap: 12px;\n",
              "    }\n",
              "\n",
              "    .colab-df-convert {\n",
              "      background-color: #E8F0FE;\n",
              "      border: none;\n",
              "      border-radius: 50%;\n",
              "      cursor: pointer;\n",
              "      display: none;\n",
              "      fill: #1967D2;\n",
              "      height: 32px;\n",
              "      padding: 0 0 0 0;\n",
              "      width: 32px;\n",
              "    }\n",
              "\n",
              "    .colab-df-convert:hover {\n",
              "      background-color: #E2EBFA;\n",
              "      box-shadow: 0px 1px 2px rgba(60, 64, 67, 0.3), 0px 1px 3px 1px rgba(60, 64, 67, 0.15);\n",
              "      fill: #174EA6;\n",
              "    }\n",
              "\n",
              "    [theme=dark] .colab-df-convert {\n",
              "      background-color: #3B4455;\n",
              "      fill: #D2E3FC;\n",
              "    }\n",
              "\n",
              "    [theme=dark] .colab-df-convert:hover {\n",
              "      background-color: #434B5C;\n",
              "      box-shadow: 0px 1px 3px 1px rgba(0, 0, 0, 0.15);\n",
              "      filter: drop-shadow(0px 1px 2px rgba(0, 0, 0, 0.3));\n",
              "      fill: #FFFFFF;\n",
              "    }\n",
              "  </style>\n",
              "\n",
              "      <script>\n",
              "        const buttonEl =\n",
              "          document.querySelector('#df-c69caba9-a92b-416c-8ec7-a399b345f553 button.colab-df-convert');\n",
              "        buttonEl.style.display =\n",
              "          google.colab.kernel.accessAllowed ? 'block' : 'none';\n",
              "\n",
              "        async function convertToInteractive(key) {\n",
              "          const element = document.querySelector('#df-c69caba9-a92b-416c-8ec7-a399b345f553');\n",
              "          const dataTable =\n",
              "            await google.colab.kernel.invokeFunction('convertToInteractive',\n",
              "                                                     [key], {});\n",
              "          if (!dataTable) return;\n",
              "\n",
              "          const docLinkHtml = 'Like what you see? Visit the ' +\n",
              "            '<a target=\"_blank\" href=https://colab.research.google.com/notebooks/data_table.ipynb>data table notebook</a>'\n",
              "            + ' to learn more about interactive tables.';\n",
              "          element.innerHTML = '';\n",
              "          dataTable['output_type'] = 'display_data';\n",
              "          await google.colab.output.renderOutput(dataTable, element);\n",
              "          const docLink = document.createElement('div');\n",
              "          docLink.innerHTML = docLinkHtml;\n",
              "          element.appendChild(docLink);\n",
              "        }\n",
              "      </script>\n",
              "    </div>\n",
              "  </div>\n",
              "  "
            ]
          },
          "metadata": {},
          "execution_count": 3
        }
      ]
    },
    {
      "cell_type": "code",
      "source": [
        "print(df.shape)"
      ],
      "metadata": {
        "colab": {
          "base_uri": "https://localhost:8080/"
        },
        "id": "ia81eyU5Mueh",
        "outputId": "e4898e59-f3eb-4b15-ce20-68630f14af8c"
      },
      "execution_count": 25,
      "outputs": [
        {
          "output_type": "stream",
          "name": "stdout",
          "text": [
            "(569, 31)\n"
          ]
        }
      ]
    },
    {
      "cell_type": "code",
      "source": [
        "df['diagnosis'].unique()"
      ],
      "metadata": {
        "colab": {
          "base_uri": "https://localhost:8080/"
        },
        "id": "d-jwWqXKpchV",
        "outputId": "b5078cc4-1322-43f1-efeb-fce3c6c63cbb"
      },
      "execution_count": 10,
      "outputs": [
        {
          "output_type": "execute_result",
          "data": {
            "text/plain": [
              "array([0, 1])"
            ]
          },
          "metadata": {},
          "execution_count": 10
        }
      ]
    },
    {
      "cell_type": "markdown",
      "source": [
        "**To make the dependent variable into numerical**"
      ],
      "metadata": {
        "id": "ZKDxIml2RqiW"
      }
    },
    {
      "cell_type": "code",
      "source": [
        "df['diagnosis']=df['diagnosis'].map({'M':0,\"B\":1}).astype(int)"
      ],
      "metadata": {
        "id": "JN_xTbxgphn1"
      },
      "execution_count": 60,
      "outputs": []
    },
    {
      "cell_type": "code",
      "source": [
        "df=df.drop(['id'],axis=1)"
      ],
      "metadata": {
        "id": "GJ1yhE7BpuKq"
      },
      "execution_count": 59,
      "outputs": []
    },
    {
      "cell_type": "code",
      "source": [
        "df.head()"
      ],
      "metadata": {
        "colab": {
          "base_uri": "https://localhost:8080/",
          "height": 317
        },
        "id": "mkguZzs9pxzg",
        "outputId": "fbf0f878-a86e-4747-ff5e-75a8685c3c99"
      },
      "execution_count": 13,
      "outputs": [
        {
          "output_type": "execute_result",
          "data": {
            "text/plain": [
              "   diagnosis  radius_mean  texture_mean  perimeter_mean  area_mean  \\\n",
              "0          0        17.99         10.38          122.80     1001.0   \n",
              "1          0        20.57         17.77          132.90     1326.0   \n",
              "2          0        19.69         21.25          130.00     1203.0   \n",
              "3          0        11.42         20.38           77.58      386.1   \n",
              "4          0        20.29         14.34          135.10     1297.0   \n",
              "\n",
              "   smoothness_mean  compactness_mean  concavity_mean  concave points_mean  \\\n",
              "0          0.11840           0.27760          0.3001              0.14710   \n",
              "1          0.08474           0.07864          0.0869              0.07017   \n",
              "2          0.10960           0.15990          0.1974              0.12790   \n",
              "3          0.14250           0.28390          0.2414              0.10520   \n",
              "4          0.10030           0.13280          0.1980              0.10430   \n",
              "\n",
              "   symmetry_mean  ...  radius_worst  texture_worst  perimeter_worst  \\\n",
              "0         0.2419  ...         25.38          17.33           184.60   \n",
              "1         0.1812  ...         24.99          23.41           158.80   \n",
              "2         0.2069  ...         23.57          25.53           152.50   \n",
              "3         0.2597  ...         14.91          26.50            98.87   \n",
              "4         0.1809  ...         22.54          16.67           152.20   \n",
              "\n",
              "   area_worst  smoothness_worst  compactness_worst  concavity_worst  \\\n",
              "0      2019.0            0.1622             0.6656           0.7119   \n",
              "1      1956.0            0.1238             0.1866           0.2416   \n",
              "2      1709.0            0.1444             0.4245           0.4504   \n",
              "3       567.7            0.2098             0.8663           0.6869   \n",
              "4      1575.0            0.1374             0.2050           0.4000   \n",
              "\n",
              "   concave points_worst  symmetry_worst  fractal_dimension_worst  \n",
              "0                0.2654          0.4601                  0.11890  \n",
              "1                0.1860          0.2750                  0.08902  \n",
              "2                0.2430          0.3613                  0.08758  \n",
              "3                0.2575          0.6638                  0.17300  \n",
              "4                0.1625          0.2364                  0.07678  \n",
              "\n",
              "[5 rows x 31 columns]"
            ],
            "text/html": [
              "\n",
              "  <div id=\"df-b27d97bc-80c2-4b17-937e-3f23c950f0a3\">\n",
              "    <div class=\"colab-df-container\">\n",
              "      <div>\n",
              "<style scoped>\n",
              "    .dataframe tbody tr th:only-of-type {\n",
              "        vertical-align: middle;\n",
              "    }\n",
              "\n",
              "    .dataframe tbody tr th {\n",
              "        vertical-align: top;\n",
              "    }\n",
              "\n",
              "    .dataframe thead th {\n",
              "        text-align: right;\n",
              "    }\n",
              "</style>\n",
              "<table border=\"1\" class=\"dataframe\">\n",
              "  <thead>\n",
              "    <tr style=\"text-align: right;\">\n",
              "      <th></th>\n",
              "      <th>diagnosis</th>\n",
              "      <th>radius_mean</th>\n",
              "      <th>texture_mean</th>\n",
              "      <th>perimeter_mean</th>\n",
              "      <th>area_mean</th>\n",
              "      <th>smoothness_mean</th>\n",
              "      <th>compactness_mean</th>\n",
              "      <th>concavity_mean</th>\n",
              "      <th>concave points_mean</th>\n",
              "      <th>symmetry_mean</th>\n",
              "      <th>...</th>\n",
              "      <th>radius_worst</th>\n",
              "      <th>texture_worst</th>\n",
              "      <th>perimeter_worst</th>\n",
              "      <th>area_worst</th>\n",
              "      <th>smoothness_worst</th>\n",
              "      <th>compactness_worst</th>\n",
              "      <th>concavity_worst</th>\n",
              "      <th>concave points_worst</th>\n",
              "      <th>symmetry_worst</th>\n",
              "      <th>fractal_dimension_worst</th>\n",
              "    </tr>\n",
              "  </thead>\n",
              "  <tbody>\n",
              "    <tr>\n",
              "      <th>0</th>\n",
              "      <td>0</td>\n",
              "      <td>17.99</td>\n",
              "      <td>10.38</td>\n",
              "      <td>122.80</td>\n",
              "      <td>1001.0</td>\n",
              "      <td>0.11840</td>\n",
              "      <td>0.27760</td>\n",
              "      <td>0.3001</td>\n",
              "      <td>0.14710</td>\n",
              "      <td>0.2419</td>\n",
              "      <td>...</td>\n",
              "      <td>25.38</td>\n",
              "      <td>17.33</td>\n",
              "      <td>184.60</td>\n",
              "      <td>2019.0</td>\n",
              "      <td>0.1622</td>\n",
              "      <td>0.6656</td>\n",
              "      <td>0.7119</td>\n",
              "      <td>0.2654</td>\n",
              "      <td>0.4601</td>\n",
              "      <td>0.11890</td>\n",
              "    </tr>\n",
              "    <tr>\n",
              "      <th>1</th>\n",
              "      <td>0</td>\n",
              "      <td>20.57</td>\n",
              "      <td>17.77</td>\n",
              "      <td>132.90</td>\n",
              "      <td>1326.0</td>\n",
              "      <td>0.08474</td>\n",
              "      <td>0.07864</td>\n",
              "      <td>0.0869</td>\n",
              "      <td>0.07017</td>\n",
              "      <td>0.1812</td>\n",
              "      <td>...</td>\n",
              "      <td>24.99</td>\n",
              "      <td>23.41</td>\n",
              "      <td>158.80</td>\n",
              "      <td>1956.0</td>\n",
              "      <td>0.1238</td>\n",
              "      <td>0.1866</td>\n",
              "      <td>0.2416</td>\n",
              "      <td>0.1860</td>\n",
              "      <td>0.2750</td>\n",
              "      <td>0.08902</td>\n",
              "    </tr>\n",
              "    <tr>\n",
              "      <th>2</th>\n",
              "      <td>0</td>\n",
              "      <td>19.69</td>\n",
              "      <td>21.25</td>\n",
              "      <td>130.00</td>\n",
              "      <td>1203.0</td>\n",
              "      <td>0.10960</td>\n",
              "      <td>0.15990</td>\n",
              "      <td>0.1974</td>\n",
              "      <td>0.12790</td>\n",
              "      <td>0.2069</td>\n",
              "      <td>...</td>\n",
              "      <td>23.57</td>\n",
              "      <td>25.53</td>\n",
              "      <td>152.50</td>\n",
              "      <td>1709.0</td>\n",
              "      <td>0.1444</td>\n",
              "      <td>0.4245</td>\n",
              "      <td>0.4504</td>\n",
              "      <td>0.2430</td>\n",
              "      <td>0.3613</td>\n",
              "      <td>0.08758</td>\n",
              "    </tr>\n",
              "    <tr>\n",
              "      <th>3</th>\n",
              "      <td>0</td>\n",
              "      <td>11.42</td>\n",
              "      <td>20.38</td>\n",
              "      <td>77.58</td>\n",
              "      <td>386.1</td>\n",
              "      <td>0.14250</td>\n",
              "      <td>0.28390</td>\n",
              "      <td>0.2414</td>\n",
              "      <td>0.10520</td>\n",
              "      <td>0.2597</td>\n",
              "      <td>...</td>\n",
              "      <td>14.91</td>\n",
              "      <td>26.50</td>\n",
              "      <td>98.87</td>\n",
              "      <td>567.7</td>\n",
              "      <td>0.2098</td>\n",
              "      <td>0.8663</td>\n",
              "      <td>0.6869</td>\n",
              "      <td>0.2575</td>\n",
              "      <td>0.6638</td>\n",
              "      <td>0.17300</td>\n",
              "    </tr>\n",
              "    <tr>\n",
              "      <th>4</th>\n",
              "      <td>0</td>\n",
              "      <td>20.29</td>\n",
              "      <td>14.34</td>\n",
              "      <td>135.10</td>\n",
              "      <td>1297.0</td>\n",
              "      <td>0.10030</td>\n",
              "      <td>0.13280</td>\n",
              "      <td>0.1980</td>\n",
              "      <td>0.10430</td>\n",
              "      <td>0.1809</td>\n",
              "      <td>...</td>\n",
              "      <td>22.54</td>\n",
              "      <td>16.67</td>\n",
              "      <td>152.20</td>\n",
              "      <td>1575.0</td>\n",
              "      <td>0.1374</td>\n",
              "      <td>0.2050</td>\n",
              "      <td>0.4000</td>\n",
              "      <td>0.1625</td>\n",
              "      <td>0.2364</td>\n",
              "      <td>0.07678</td>\n",
              "    </tr>\n",
              "  </tbody>\n",
              "</table>\n",
              "<p>5 rows × 31 columns</p>\n",
              "</div>\n",
              "      <button class=\"colab-df-convert\" onclick=\"convertToInteractive('df-b27d97bc-80c2-4b17-937e-3f23c950f0a3')\"\n",
              "              title=\"Convert this dataframe to an interactive table.\"\n",
              "              style=\"display:none;\">\n",
              "        \n",
              "  <svg xmlns=\"http://www.w3.org/2000/svg\" height=\"24px\"viewBox=\"0 0 24 24\"\n",
              "       width=\"24px\">\n",
              "    <path d=\"M0 0h24v24H0V0z\" fill=\"none\"/>\n",
              "    <path d=\"M18.56 5.44l.94 2.06.94-2.06 2.06-.94-2.06-.94-.94-2.06-.94 2.06-2.06.94zm-11 1L8.5 8.5l.94-2.06 2.06-.94-2.06-.94L8.5 2.5l-.94 2.06-2.06.94zm10 10l.94 2.06.94-2.06 2.06-.94-2.06-.94-.94-2.06-.94 2.06-2.06.94z\"/><path d=\"M17.41 7.96l-1.37-1.37c-.4-.4-.92-.59-1.43-.59-.52 0-1.04.2-1.43.59L10.3 9.45l-7.72 7.72c-.78.78-.78 2.05 0 2.83L4 21.41c.39.39.9.59 1.41.59.51 0 1.02-.2 1.41-.59l7.78-7.78 2.81-2.81c.8-.78.8-2.07 0-2.86zM5.41 20L4 18.59l7.72-7.72 1.47 1.35L5.41 20z\"/>\n",
              "  </svg>\n",
              "      </button>\n",
              "      \n",
              "  <style>\n",
              "    .colab-df-container {\n",
              "      display:flex;\n",
              "      flex-wrap:wrap;\n",
              "      gap: 12px;\n",
              "    }\n",
              "\n",
              "    .colab-df-convert {\n",
              "      background-color: #E8F0FE;\n",
              "      border: none;\n",
              "      border-radius: 50%;\n",
              "      cursor: pointer;\n",
              "      display: none;\n",
              "      fill: #1967D2;\n",
              "      height: 32px;\n",
              "      padding: 0 0 0 0;\n",
              "      width: 32px;\n",
              "    }\n",
              "\n",
              "    .colab-df-convert:hover {\n",
              "      background-color: #E2EBFA;\n",
              "      box-shadow: 0px 1px 2px rgba(60, 64, 67, 0.3), 0px 1px 3px 1px rgba(60, 64, 67, 0.15);\n",
              "      fill: #174EA6;\n",
              "    }\n",
              "\n",
              "    [theme=dark] .colab-df-convert {\n",
              "      background-color: #3B4455;\n",
              "      fill: #D2E3FC;\n",
              "    }\n",
              "\n",
              "    [theme=dark] .colab-df-convert:hover {\n",
              "      background-color: #434B5C;\n",
              "      box-shadow: 0px 1px 3px 1px rgba(0, 0, 0, 0.15);\n",
              "      filter: drop-shadow(0px 1px 2px rgba(0, 0, 0, 0.3));\n",
              "      fill: #FFFFFF;\n",
              "    }\n",
              "  </style>\n",
              "\n",
              "      <script>\n",
              "        const buttonEl =\n",
              "          document.querySelector('#df-b27d97bc-80c2-4b17-937e-3f23c950f0a3 button.colab-df-convert');\n",
              "        buttonEl.style.display =\n",
              "          google.colab.kernel.accessAllowed ? 'block' : 'none';\n",
              "\n",
              "        async function convertToInteractive(key) {\n",
              "          const element = document.querySelector('#df-b27d97bc-80c2-4b17-937e-3f23c950f0a3');\n",
              "          const dataTable =\n",
              "            await google.colab.kernel.invokeFunction('convertToInteractive',\n",
              "                                                     [key], {});\n",
              "          if (!dataTable) return;\n",
              "\n",
              "          const docLinkHtml = 'Like what you see? Visit the ' +\n",
              "            '<a target=\"_blank\" href=https://colab.research.google.com/notebooks/data_table.ipynb>data table notebook</a>'\n",
              "            + ' to learn more about interactive tables.';\n",
              "          element.innerHTML = '';\n",
              "          dataTable['output_type'] = 'display_data';\n",
              "          await google.colab.output.renderOutput(dataTable, element);\n",
              "          const docLink = document.createElement('div');\n",
              "          docLink.innerHTML = docLinkHtml;\n",
              "          element.appendChild(docLink);\n",
              "        }\n",
              "      </script>\n",
              "    </div>\n",
              "  </div>\n",
              "  "
            ]
          },
          "metadata": {},
          "execution_count": 13
        }
      ]
    },
    {
      "cell_type": "markdown",
      "source": [
        "##splitting the data"
      ],
      "metadata": {
        "id": "Z9dmhPWoR5rZ"
      }
    },
    {
      "cell_type": "code",
      "source": [
        "x=df.iloc[:,1:]\n",
        "y=df.iloc[:,0]"
      ],
      "metadata": {
        "id": "INC74JZkpzbz"
      },
      "execution_count": 14,
      "outputs": []
    },
    {
      "cell_type": "code",
      "source": [
        "from sklearn.model_selection import train_test_split"
      ],
      "metadata": {
        "id": "EFM3JneSp49F"
      },
      "execution_count": 15,
      "outputs": []
    },
    {
      "cell_type": "code",
      "source": [
        "x_train,x_test,y_train,y_test=train_test_split(x ,y ,test_size=0.33, random_state=42)"
      ],
      "metadata": {
        "id": "rut-X1FBp_g0"
      },
      "execution_count": 16,
      "outputs": []
    },
    {
      "cell_type": "code",
      "source": [
        "len(x_train),len(y_train)"
      ],
      "metadata": {
        "colab": {
          "base_uri": "https://localhost:8080/"
        },
        "id": "Tx18Lw0MLzw2",
        "outputId": "fe2c08f8-d95a-4c2f-a84c-300300adee86"
      },
      "execution_count": 17,
      "outputs": [
        {
          "output_type": "execute_result",
          "data": {
            "text/plain": [
              "(381, 381)"
            ]
          },
          "metadata": {},
          "execution_count": 17
        }
      ]
    },
    {
      "cell_type": "code",
      "source": [
        "x_train.head()"
      ],
      "metadata": {
        "colab": {
          "base_uri": "https://localhost:8080/",
          "height": 317
        },
        "id": "7Vc664ukqLOX",
        "outputId": "f03a3b54-31dd-46e6-cdf0-f2873caafcea"
      },
      "execution_count": 18,
      "outputs": [
        {
          "output_type": "execute_result",
          "data": {
            "text/plain": [
              "     radius_mean  texture_mean  perimeter_mean  area_mean  smoothness_mean  \\\n",
              "172        15.46         11.89          102.50      736.9          0.12570   \n",
              "407        12.85         21.37           82.63      514.5          0.07551   \n",
              "56         19.21         18.57          125.50     1152.0          0.10530   \n",
              "497        12.47         17.31           80.45      480.1          0.08928   \n",
              "301        12.46         19.89           80.43      471.3          0.08451   \n",
              "\n",
              "     compactness_mean  concavity_mean  concave points_mean  symmetry_mean  \\\n",
              "172           0.15550         0.20320              0.10970         0.1966   \n",
              "407           0.08316         0.06126              0.01867         0.1580   \n",
              "56            0.12670         0.13230              0.08994         0.1917   \n",
              "497           0.07630         0.03609              0.02369         0.1526   \n",
              "301           0.10140         0.06830              0.03099         0.1781   \n",
              "\n",
              "     fractal_dimension_mean  ...  radius_worst  texture_worst  \\\n",
              "172                 0.07069  ...         18.79          17.04   \n",
              "407                 0.06114  ...         14.40          27.01   \n",
              "56                  0.05961  ...         26.14          28.14   \n",
              "497                 0.06046  ...         14.06          24.34   \n",
              "301                 0.06249  ...         13.46          23.07   \n",
              "\n",
              "     perimeter_worst  area_worst  smoothness_worst  compactness_worst  \\\n",
              "172           125.00      1102.0           0.15310             0.3583   \n",
              "407            91.63       645.8           0.09402             0.1936   \n",
              "56            170.10      2145.0           0.16240             0.3511   \n",
              "497            92.82       607.3           0.12760             0.2506   \n",
              "301            88.13       551.3           0.10500             0.2158   \n",
              "\n",
              "     concavity_worst  concave points_worst  symmetry_worst  \\\n",
              "172           0.5830               0.18270          0.3216   \n",
              "407           0.1838               0.05601          0.2488   \n",
              "56            0.3879               0.20910          0.3537   \n",
              "497           0.2028               0.10530          0.3035   \n",
              "301           0.1904               0.07625          0.2685   \n",
              "\n",
              "     fractal_dimension_worst  \n",
              "172                  0.10100  \n",
              "407                  0.08151  \n",
              "56                   0.08294  \n",
              "497                  0.07661  \n",
              "301                  0.07764  \n",
              "\n",
              "[5 rows x 30 columns]"
            ],
            "text/html": [
              "\n",
              "  <div id=\"df-2ef9178a-2e35-41f4-8fcc-9230ae126141\">\n",
              "    <div class=\"colab-df-container\">\n",
              "      <div>\n",
              "<style scoped>\n",
              "    .dataframe tbody tr th:only-of-type {\n",
              "        vertical-align: middle;\n",
              "    }\n",
              "\n",
              "    .dataframe tbody tr th {\n",
              "        vertical-align: top;\n",
              "    }\n",
              "\n",
              "    .dataframe thead th {\n",
              "        text-align: right;\n",
              "    }\n",
              "</style>\n",
              "<table border=\"1\" class=\"dataframe\">\n",
              "  <thead>\n",
              "    <tr style=\"text-align: right;\">\n",
              "      <th></th>\n",
              "      <th>radius_mean</th>\n",
              "      <th>texture_mean</th>\n",
              "      <th>perimeter_mean</th>\n",
              "      <th>area_mean</th>\n",
              "      <th>smoothness_mean</th>\n",
              "      <th>compactness_mean</th>\n",
              "      <th>concavity_mean</th>\n",
              "      <th>concave points_mean</th>\n",
              "      <th>symmetry_mean</th>\n",
              "      <th>fractal_dimension_mean</th>\n",
              "      <th>...</th>\n",
              "      <th>radius_worst</th>\n",
              "      <th>texture_worst</th>\n",
              "      <th>perimeter_worst</th>\n",
              "      <th>area_worst</th>\n",
              "      <th>smoothness_worst</th>\n",
              "      <th>compactness_worst</th>\n",
              "      <th>concavity_worst</th>\n",
              "      <th>concave points_worst</th>\n",
              "      <th>symmetry_worst</th>\n",
              "      <th>fractal_dimension_worst</th>\n",
              "    </tr>\n",
              "  </thead>\n",
              "  <tbody>\n",
              "    <tr>\n",
              "      <th>172</th>\n",
              "      <td>15.46</td>\n",
              "      <td>11.89</td>\n",
              "      <td>102.50</td>\n",
              "      <td>736.9</td>\n",
              "      <td>0.12570</td>\n",
              "      <td>0.15550</td>\n",
              "      <td>0.20320</td>\n",
              "      <td>0.10970</td>\n",
              "      <td>0.1966</td>\n",
              "      <td>0.07069</td>\n",
              "      <td>...</td>\n",
              "      <td>18.79</td>\n",
              "      <td>17.04</td>\n",
              "      <td>125.00</td>\n",
              "      <td>1102.0</td>\n",
              "      <td>0.15310</td>\n",
              "      <td>0.3583</td>\n",
              "      <td>0.5830</td>\n",
              "      <td>0.18270</td>\n",
              "      <td>0.3216</td>\n",
              "      <td>0.10100</td>\n",
              "    </tr>\n",
              "    <tr>\n",
              "      <th>407</th>\n",
              "      <td>12.85</td>\n",
              "      <td>21.37</td>\n",
              "      <td>82.63</td>\n",
              "      <td>514.5</td>\n",
              "      <td>0.07551</td>\n",
              "      <td>0.08316</td>\n",
              "      <td>0.06126</td>\n",
              "      <td>0.01867</td>\n",
              "      <td>0.1580</td>\n",
              "      <td>0.06114</td>\n",
              "      <td>...</td>\n",
              "      <td>14.40</td>\n",
              "      <td>27.01</td>\n",
              "      <td>91.63</td>\n",
              "      <td>645.8</td>\n",
              "      <td>0.09402</td>\n",
              "      <td>0.1936</td>\n",
              "      <td>0.1838</td>\n",
              "      <td>0.05601</td>\n",
              "      <td>0.2488</td>\n",
              "      <td>0.08151</td>\n",
              "    </tr>\n",
              "    <tr>\n",
              "      <th>56</th>\n",
              "      <td>19.21</td>\n",
              "      <td>18.57</td>\n",
              "      <td>125.50</td>\n",
              "      <td>1152.0</td>\n",
              "      <td>0.10530</td>\n",
              "      <td>0.12670</td>\n",
              "      <td>0.13230</td>\n",
              "      <td>0.08994</td>\n",
              "      <td>0.1917</td>\n",
              "      <td>0.05961</td>\n",
              "      <td>...</td>\n",
              "      <td>26.14</td>\n",
              "      <td>28.14</td>\n",
              "      <td>170.10</td>\n",
              "      <td>2145.0</td>\n",
              "      <td>0.16240</td>\n",
              "      <td>0.3511</td>\n",
              "      <td>0.3879</td>\n",
              "      <td>0.20910</td>\n",
              "      <td>0.3537</td>\n",
              "      <td>0.08294</td>\n",
              "    </tr>\n",
              "    <tr>\n",
              "      <th>497</th>\n",
              "      <td>12.47</td>\n",
              "      <td>17.31</td>\n",
              "      <td>80.45</td>\n",
              "      <td>480.1</td>\n",
              "      <td>0.08928</td>\n",
              "      <td>0.07630</td>\n",
              "      <td>0.03609</td>\n",
              "      <td>0.02369</td>\n",
              "      <td>0.1526</td>\n",
              "      <td>0.06046</td>\n",
              "      <td>...</td>\n",
              "      <td>14.06</td>\n",
              "      <td>24.34</td>\n",
              "      <td>92.82</td>\n",
              "      <td>607.3</td>\n",
              "      <td>0.12760</td>\n",
              "      <td>0.2506</td>\n",
              "      <td>0.2028</td>\n",
              "      <td>0.10530</td>\n",
              "      <td>0.3035</td>\n",
              "      <td>0.07661</td>\n",
              "    </tr>\n",
              "    <tr>\n",
              "      <th>301</th>\n",
              "      <td>12.46</td>\n",
              "      <td>19.89</td>\n",
              "      <td>80.43</td>\n",
              "      <td>471.3</td>\n",
              "      <td>0.08451</td>\n",
              "      <td>0.10140</td>\n",
              "      <td>0.06830</td>\n",
              "      <td>0.03099</td>\n",
              "      <td>0.1781</td>\n",
              "      <td>0.06249</td>\n",
              "      <td>...</td>\n",
              "      <td>13.46</td>\n",
              "      <td>23.07</td>\n",
              "      <td>88.13</td>\n",
              "      <td>551.3</td>\n",
              "      <td>0.10500</td>\n",
              "      <td>0.2158</td>\n",
              "      <td>0.1904</td>\n",
              "      <td>0.07625</td>\n",
              "      <td>0.2685</td>\n",
              "      <td>0.07764</td>\n",
              "    </tr>\n",
              "  </tbody>\n",
              "</table>\n",
              "<p>5 rows × 30 columns</p>\n",
              "</div>\n",
              "      <button class=\"colab-df-convert\" onclick=\"convertToInteractive('df-2ef9178a-2e35-41f4-8fcc-9230ae126141')\"\n",
              "              title=\"Convert this dataframe to an interactive table.\"\n",
              "              style=\"display:none;\">\n",
              "        \n",
              "  <svg xmlns=\"http://www.w3.org/2000/svg\" height=\"24px\"viewBox=\"0 0 24 24\"\n",
              "       width=\"24px\">\n",
              "    <path d=\"M0 0h24v24H0V0z\" fill=\"none\"/>\n",
              "    <path d=\"M18.56 5.44l.94 2.06.94-2.06 2.06-.94-2.06-.94-.94-2.06-.94 2.06-2.06.94zm-11 1L8.5 8.5l.94-2.06 2.06-.94-2.06-.94L8.5 2.5l-.94 2.06-2.06.94zm10 10l.94 2.06.94-2.06 2.06-.94-2.06-.94-.94-2.06-.94 2.06-2.06.94z\"/><path d=\"M17.41 7.96l-1.37-1.37c-.4-.4-.92-.59-1.43-.59-.52 0-1.04.2-1.43.59L10.3 9.45l-7.72 7.72c-.78.78-.78 2.05 0 2.83L4 21.41c.39.39.9.59 1.41.59.51 0 1.02-.2 1.41-.59l7.78-7.78 2.81-2.81c.8-.78.8-2.07 0-2.86zM5.41 20L4 18.59l7.72-7.72 1.47 1.35L5.41 20z\"/>\n",
              "  </svg>\n",
              "      </button>\n",
              "      \n",
              "  <style>\n",
              "    .colab-df-container {\n",
              "      display:flex;\n",
              "      flex-wrap:wrap;\n",
              "      gap: 12px;\n",
              "    }\n",
              "\n",
              "    .colab-df-convert {\n",
              "      background-color: #E8F0FE;\n",
              "      border: none;\n",
              "      border-radius: 50%;\n",
              "      cursor: pointer;\n",
              "      display: none;\n",
              "      fill: #1967D2;\n",
              "      height: 32px;\n",
              "      padding: 0 0 0 0;\n",
              "      width: 32px;\n",
              "    }\n",
              "\n",
              "    .colab-df-convert:hover {\n",
              "      background-color: #E2EBFA;\n",
              "      box-shadow: 0px 1px 2px rgba(60, 64, 67, 0.3), 0px 1px 3px 1px rgba(60, 64, 67, 0.15);\n",
              "      fill: #174EA6;\n",
              "    }\n",
              "\n",
              "    [theme=dark] .colab-df-convert {\n",
              "      background-color: #3B4455;\n",
              "      fill: #D2E3FC;\n",
              "    }\n",
              "\n",
              "    [theme=dark] .colab-df-convert:hover {\n",
              "      background-color: #434B5C;\n",
              "      box-shadow: 0px 1px 3px 1px rgba(0, 0, 0, 0.15);\n",
              "      filter: drop-shadow(0px 1px 2px rgba(0, 0, 0, 0.3));\n",
              "      fill: #FFFFFF;\n",
              "    }\n",
              "  </style>\n",
              "\n",
              "      <script>\n",
              "        const buttonEl =\n",
              "          document.querySelector('#df-2ef9178a-2e35-41f4-8fcc-9230ae126141 button.colab-df-convert');\n",
              "        buttonEl.style.display =\n",
              "          google.colab.kernel.accessAllowed ? 'block' : 'none';\n",
              "\n",
              "        async function convertToInteractive(key) {\n",
              "          const element = document.querySelector('#df-2ef9178a-2e35-41f4-8fcc-9230ae126141');\n",
              "          const dataTable =\n",
              "            await google.colab.kernel.invokeFunction('convertToInteractive',\n",
              "                                                     [key], {});\n",
              "          if (!dataTable) return;\n",
              "\n",
              "          const docLinkHtml = 'Like what you see? Visit the ' +\n",
              "            '<a target=\"_blank\" href=https://colab.research.google.com/notebooks/data_table.ipynb>data table notebook</a>'\n",
              "            + ' to learn more about interactive tables.';\n",
              "          element.innerHTML = '';\n",
              "          dataTable['output_type'] = 'display_data';\n",
              "          await google.colab.output.renderOutput(dataTable, element);\n",
              "          const docLink = document.createElement('div');\n",
              "          docLink.innerHTML = docLinkHtml;\n",
              "          element.appendChild(docLink);\n",
              "        }\n",
              "      </script>\n",
              "    </div>\n",
              "  </div>\n",
              "  "
            ]
          },
          "metadata": {},
          "execution_count": 18
        }
      ]
    },
    {
      "cell_type": "code",
      "source": [
        "y_train"
      ],
      "metadata": {
        "colab": {
          "base_uri": "https://localhost:8080/"
        },
        "id": "rEYp3Z9DtMU4",
        "outputId": "bf3fba98-f279-492a-d121-740aafe8b2a6"
      },
      "execution_count": 19,
      "outputs": [
        {
          "output_type": "execute_result",
          "data": {
            "text/plain": [
              "172    0\n",
              "407    1\n",
              "56     0\n",
              "497    1\n",
              "301    1\n",
              "      ..\n",
              "71     1\n",
              "106    1\n",
              "270    1\n",
              "435    0\n",
              "102    1\n",
              "Name: diagnosis, Length: 381, dtype: int64"
            ]
          },
          "metadata": {},
          "execution_count": 19
        }
      ]
    },
    {
      "cell_type": "code",
      "source": [
        "y_test"
      ],
      "metadata": {
        "colab": {
          "base_uri": "https://localhost:8080/"
        },
        "id": "uJ4sd0gPqOPo",
        "outputId": "f2cffc95-e322-4153-bb73-062feb592679"
      },
      "execution_count": 20,
      "outputs": [
        {
          "output_type": "execute_result",
          "data": {
            "text/plain": [
              "204    1\n",
              "70     0\n",
              "131    0\n",
              "431    1\n",
              "540    1\n",
              "      ..\n",
              "141    0\n",
              "498    0\n",
              "7      0\n",
              "541    1\n",
              "19     1\n",
              "Name: diagnosis, Length: 188, dtype: int64"
            ]
          },
          "metadata": {},
          "execution_count": 20
        }
      ]
    },
    {
      "cell_type": "markdown",
      "source": [
        "##importing the essential packages for the ANN Architecture"
      ],
      "metadata": {
        "id": "6pu1xij_R-s8"
      }
    },
    {
      "cell_type": "code",
      "source": [
        "from tensorflow import keras\n",
        "from tensorflow.keras.models import Sequential\n",
        "from tensorflow.keras.layers import Dense,Activation\n",
        "from tensorflow.keras.activations import sigmoid,relu,softmax,tanh"
      ],
      "metadata": {
        "id": "DZ-02Jx7qPy9"
      },
      "execution_count": 21,
      "outputs": []
    },
    {
      "cell_type": "code",
      "source": [
        "x.shape[1]"
      ],
      "metadata": {
        "colab": {
          "base_uri": "https://localhost:8080/"
        },
        "id": "eezbDuJDMk5Q",
        "outputId": "1203706f-3179-4150-a19a-49ab341217fb"
      },
      "execution_count": 23,
      "outputs": [
        {
          "output_type": "execute_result",
          "data": {
            "text/plain": [
              "30"
            ]
          },
          "metadata": {},
          "execution_count": 23
        }
      ]
    },
    {
      "cell_type": "markdown",
      "source": [
        "##Fitting to the model"
      ],
      "metadata": {
        "id": "wtNUmZaBSHxS"
      }
    },
    {
      "cell_type": "code",
      "source": [
        "model=Sequential()"
      ],
      "metadata": {
        "id": "uHMc_DsVrdd5"
      },
      "execution_count": 26,
      "outputs": []
    },
    {
      "cell_type": "code",
      "source": [
        "##architecture \n",
        "##first hidden layer\n",
        "model.add(Dense(units=128,kernel_initializer='he_uniform',activation='relu',input_dim=x.shape[1]))\n",
        "##second hidden layer\n",
        "model.add(Dense(units=64,kernel_initializer='he_uniform',activation='relu'))\n",
        "##third hidden layer\n",
        "model.add(Dense(units=32,kernel_initializer='he_uniform',activation='relu'))\n",
        "##fourth hidden layer\n",
        "model.add(Dense(units=16,kernel_initializer='he_uniform',activation='relu'))\n",
        "##fifth hidden layer\n",
        "model.add(Dense(units=8,kernel_initializer='he_uniform',activation='relu'))\n",
        "##sixth hidden layer\n",
        "model.add(Dense(units=4,kernel_initializer='he_uniform',activation='relu'))\n",
        "##output layer\n",
        "model.add(Dense(units=1,kernel_initializer='glorot_uniform',activation='sigmoid'))\n"
      ],
      "metadata": {
        "id": "l8kWVwq2qwkt"
      },
      "execution_count": 27,
      "outputs": []
    },
    {
      "cell_type": "code",
      "source": [
        "model.compile(optimizer='adam',loss='binary_crossentropy',metrics='accuracy')"
      ],
      "metadata": {
        "id": "MV-CcTV2r9sK"
      },
      "execution_count": 28,
      "outputs": []
    },
    {
      "cell_type": "code",
      "source": [
        "model.fit(x_train,y_train,epochs=50,batch_size=10,validation_split=0.1)"
      ],
      "metadata": {
        "colab": {
          "base_uri": "https://localhost:8080/"
        },
        "id": "QtAy1SVLsOG2",
        "outputId": "69db57f6-3aeb-4609-d957-b8989411e5fd"
      },
      "execution_count": 29,
      "outputs": [
        {
          "output_type": "stream",
          "name": "stdout",
          "text": [
            "Epoch 1/50\n",
            "35/35 [==============================] - 6s 11ms/step - loss: 5.5519 - accuracy: 0.6082 - val_loss: 1.1950 - val_accuracy: 0.7179\n",
            "Epoch 2/50\n",
            "35/35 [==============================] - 0s 5ms/step - loss: 1.3330 - accuracy: 0.6082 - val_loss: 0.6249 - val_accuracy: 0.7179\n",
            "Epoch 3/50\n",
            "35/35 [==============================] - 0s 5ms/step - loss: 0.7612 - accuracy: 0.6111 - val_loss: 0.5370 - val_accuracy: 0.8718\n",
            "Epoch 4/50\n",
            "35/35 [==============================] - 0s 5ms/step - loss: 0.6000 - accuracy: 0.8070 - val_loss: 0.4627 - val_accuracy: 0.8974\n",
            "Epoch 5/50\n",
            "35/35 [==============================] - 0s 5ms/step - loss: 0.5171 - accuracy: 0.8509 - val_loss: 0.3783 - val_accuracy: 0.8974\n",
            "Epoch 6/50\n",
            "35/35 [==============================] - 0s 5ms/step - loss: 0.4819 - accuracy: 0.8596 - val_loss: 0.5232 - val_accuracy: 0.8205\n",
            "Epoch 7/50\n",
            "35/35 [==============================] - 0s 5ms/step - loss: 0.4906 - accuracy: 0.8509 - val_loss: 0.3473 - val_accuracy: 0.8974\n",
            "Epoch 8/50\n",
            "35/35 [==============================] - 0s 5ms/step - loss: 0.4659 - accuracy: 0.8538 - val_loss: 0.3864 - val_accuracy: 0.8718\n",
            "Epoch 9/50\n",
            "35/35 [==============================] - 0s 5ms/step - loss: 0.5232 - accuracy: 0.8304 - val_loss: 0.3486 - val_accuracy: 0.8974\n",
            "Epoch 10/50\n",
            "35/35 [==============================] - 0s 6ms/step - loss: 0.4678 - accuracy: 0.8509 - val_loss: 0.3444 - val_accuracy: 0.8974\n",
            "Epoch 11/50\n",
            "35/35 [==============================] - 0s 5ms/step - loss: 0.4397 - accuracy: 0.8772 - val_loss: 0.3691 - val_accuracy: 0.8974\n",
            "Epoch 12/50\n",
            "35/35 [==============================] - 0s 8ms/step - loss: 0.7002 - accuracy: 0.4620 - val_loss: 0.4134 - val_accuracy: 0.8462\n",
            "Epoch 13/50\n",
            "35/35 [==============================] - 0s 8ms/step - loss: 0.4787 - accuracy: 0.8509 - val_loss: 0.3436 - val_accuracy: 0.8974\n",
            "Epoch 14/50\n",
            "35/35 [==============================] - 0s 7ms/step - loss: 0.4295 - accuracy: 0.8947 - val_loss: 0.3461 - val_accuracy: 0.8974\n",
            "Epoch 15/50\n",
            "35/35 [==============================] - 0s 7ms/step - loss: 0.4184 - accuracy: 0.9035 - val_loss: 0.3892 - val_accuracy: 0.8718\n",
            "Epoch 16/50\n",
            "35/35 [==============================] - 0s 8ms/step - loss: 0.4143 - accuracy: 0.9035 - val_loss: 0.3449 - val_accuracy: 0.8974\n",
            "Epoch 17/50\n",
            "35/35 [==============================] - 0s 7ms/step - loss: 0.4175 - accuracy: 0.8860 - val_loss: 0.4234 - val_accuracy: 0.8462\n",
            "Epoch 18/50\n",
            "35/35 [==============================] - 0s 7ms/step - loss: 0.4413 - accuracy: 0.8801 - val_loss: 0.3510 - val_accuracy: 0.9231\n",
            "Epoch 19/50\n",
            "35/35 [==============================] - 0s 8ms/step - loss: 0.4296 - accuracy: 0.8889 - val_loss: 0.3361 - val_accuracy: 0.8974\n",
            "Epoch 20/50\n",
            "35/35 [==============================] - 0s 7ms/step - loss: 0.4392 - accuracy: 0.8772 - val_loss: 0.3216 - val_accuracy: 0.8974\n",
            "Epoch 21/50\n",
            "35/35 [==============================] - 0s 7ms/step - loss: 0.4061 - accuracy: 0.8860 - val_loss: 0.3374 - val_accuracy: 0.8974\n",
            "Epoch 22/50\n",
            "35/35 [==============================] - 0s 8ms/step - loss: 0.4300 - accuracy: 0.8889 - val_loss: 0.3645 - val_accuracy: 0.8718\n",
            "Epoch 23/50\n",
            "35/35 [==============================] - 0s 8ms/step - loss: 0.4726 - accuracy: 0.8041 - val_loss: 0.3151 - val_accuracy: 0.8974\n",
            "Epoch 24/50\n",
            "35/35 [==============================] - 0s 6ms/step - loss: 0.4293 - accuracy: 0.8743 - val_loss: 0.3671 - val_accuracy: 0.8718\n",
            "Epoch 25/50\n",
            "35/35 [==============================] - 0s 5ms/step - loss: 0.4187 - accuracy: 0.8889 - val_loss: 0.3131 - val_accuracy: 0.8974\n",
            "Epoch 26/50\n",
            "35/35 [==============================] - 0s 5ms/step - loss: 0.3824 - accuracy: 0.8977 - val_loss: 0.3185 - val_accuracy: 0.8974\n",
            "Epoch 27/50\n",
            "35/35 [==============================] - 0s 5ms/step - loss: 0.3779 - accuracy: 0.8947 - val_loss: 0.3138 - val_accuracy: 0.8974\n",
            "Epoch 28/50\n",
            "35/35 [==============================] - 0s 5ms/step - loss: 0.3920 - accuracy: 0.8947 - val_loss: 0.3520 - val_accuracy: 0.8718\n",
            "Epoch 29/50\n",
            "35/35 [==============================] - 0s 5ms/step - loss: 0.4102 - accuracy: 0.8626 - val_loss: 0.3356 - val_accuracy: 0.8974\n",
            "Epoch 30/50\n",
            "35/35 [==============================] - 0s 5ms/step - loss: 0.4186 - accuracy: 0.8918 - val_loss: 0.4077 - val_accuracy: 0.8205\n",
            "Epoch 31/50\n",
            "35/35 [==============================] - 0s 5ms/step - loss: 0.3761 - accuracy: 0.8947 - val_loss: 0.3055 - val_accuracy: 0.8718\n",
            "Epoch 32/50\n",
            "35/35 [==============================] - 0s 5ms/step - loss: 0.3669 - accuracy: 0.9006 - val_loss: 0.3007 - val_accuracy: 0.8974\n",
            "Epoch 33/50\n",
            "35/35 [==============================] - 0s 6ms/step - loss: 0.4579 - accuracy: 0.8129 - val_loss: 0.3293 - val_accuracy: 0.8974\n",
            "Epoch 34/50\n",
            "35/35 [==============================] - 0s 5ms/step - loss: 0.4183 - accuracy: 0.8918 - val_loss: 0.2973 - val_accuracy: 0.8974\n",
            "Epoch 35/50\n",
            "35/35 [==============================] - 0s 5ms/step - loss: 0.3907 - accuracy: 0.8772 - val_loss: 0.2994 - val_accuracy: 0.9231\n",
            "Epoch 36/50\n",
            "35/35 [==============================] - 0s 5ms/step - loss: 0.3747 - accuracy: 0.8889 - val_loss: 0.2939 - val_accuracy: 0.8974\n",
            "Epoch 37/50\n",
            "35/35 [==============================] - 0s 5ms/step - loss: 0.3660 - accuracy: 0.8947 - val_loss: 0.3342 - val_accuracy: 0.8718\n",
            "Epoch 38/50\n",
            "35/35 [==============================] - 0s 5ms/step - loss: 0.3597 - accuracy: 0.8918 - val_loss: 0.3921 - val_accuracy: 0.8205\n",
            "Epoch 39/50\n",
            "35/35 [==============================] - 0s 5ms/step - loss: 0.4103 - accuracy: 0.8860 - val_loss: 0.2805 - val_accuracy: 0.8974\n",
            "Epoch 40/50\n",
            "35/35 [==============================] - 0s 5ms/step - loss: 0.3705 - accuracy: 0.8889 - val_loss: 0.3263 - val_accuracy: 0.8974\n",
            "Epoch 41/50\n",
            "35/35 [==============================] - 0s 5ms/step - loss: 0.3849 - accuracy: 0.8889 - val_loss: 0.3111 - val_accuracy: 0.9231\n",
            "Epoch 42/50\n",
            "35/35 [==============================] - 0s 5ms/step - loss: 0.3543 - accuracy: 0.9064 - val_loss: 0.3713 - val_accuracy: 0.8718\n",
            "Epoch 43/50\n",
            "35/35 [==============================] - 0s 5ms/step - loss: 0.3874 - accuracy: 0.8830 - val_loss: 0.2887 - val_accuracy: 0.9231\n",
            "Epoch 44/50\n",
            "35/35 [==============================] - 0s 5ms/step - loss: 0.3607 - accuracy: 0.8947 - val_loss: 0.2828 - val_accuracy: 0.8974\n",
            "Epoch 45/50\n",
            "35/35 [==============================] - 0s 5ms/step - loss: 0.3731 - accuracy: 0.9006 - val_loss: 0.4653 - val_accuracy: 0.8462\n",
            "Epoch 46/50\n",
            "35/35 [==============================] - 0s 5ms/step - loss: 0.3673 - accuracy: 0.8830 - val_loss: 0.3459 - val_accuracy: 0.8462\n",
            "Epoch 47/50\n",
            "35/35 [==============================] - 0s 5ms/step - loss: 0.3526 - accuracy: 0.9064 - val_loss: 0.3407 - val_accuracy: 0.8718\n",
            "Epoch 48/50\n",
            "35/35 [==============================] - 0s 5ms/step - loss: 0.3464 - accuracy: 0.9006 - val_loss: 0.4246 - val_accuracy: 0.8462\n",
            "Epoch 49/50\n",
            "35/35 [==============================] - 0s 5ms/step - loss: 0.4296 - accuracy: 0.8772 - val_loss: 0.2999 - val_accuracy: 0.9231\n",
            "Epoch 50/50\n",
            "35/35 [==============================] - 0s 5ms/step - loss: 0.3351 - accuracy: 0.9006 - val_loss: 0.2785 - val_accuracy: 0.8974\n"
          ]
        },
        {
          "output_type": "execute_result",
          "data": {
            "text/plain": [
              "<keras.callbacks.History at 0x7f61efae2e50>"
            ]
          },
          "metadata": {},
          "execution_count": 29
        }
      ]
    },
    {
      "cell_type": "code",
      "source": [
        "model.summary()"
      ],
      "metadata": {
        "colab": {
          "base_uri": "https://localhost:8080/"
        },
        "id": "b2A8JN-XsZno",
        "outputId": "3c29974c-afa3-4c21-8467-424655b848a8"
      },
      "execution_count": 30,
      "outputs": [
        {
          "output_type": "stream",
          "name": "stdout",
          "text": [
            "Model: \"sequential_2\"\n",
            "_________________________________________________________________\n",
            " Layer (type)                Output Shape              Param #   \n",
            "=================================================================\n",
            " dense (Dense)               (None, 128)               3968      \n",
            "                                                                 \n",
            " dense_1 (Dense)             (None, 64)                8256      \n",
            "                                                                 \n",
            " dense_2 (Dense)             (None, 32)                2080      \n",
            "                                                                 \n",
            " dense_3 (Dense)             (None, 16)                528       \n",
            "                                                                 \n",
            " dense_4 (Dense)             (None, 8)                 136       \n",
            "                                                                 \n",
            " dense_5 (Dense)             (None, 4)                 36        \n",
            "                                                                 \n",
            " dense_6 (Dense)             (None, 1)                 5         \n",
            "                                                                 \n",
            "=================================================================\n",
            "Total params: 15,009\n",
            "Trainable params: 15,009\n",
            "Non-trainable params: 0\n",
            "_________________________________________________________________\n"
          ]
        }
      ]
    },
    {
      "cell_type": "code",
      "source": [
        "model.history.history.keys()"
      ],
      "metadata": {
        "colab": {
          "base_uri": "https://localhost:8080/"
        },
        "id": "QSLgH6YzNSpF",
        "outputId": "68fff363-4e5d-46b8-e5ab-206fe52879e3"
      },
      "execution_count": 31,
      "outputs": [
        {
          "output_type": "execute_result",
          "data": {
            "text/plain": [
              "dict_keys(['loss', 'accuracy', 'val_loss', 'val_accuracy'])"
            ]
          },
          "metadata": {},
          "execution_count": 31
        }
      ]
    },
    {
      "cell_type": "code",
      "source": [
        "model.history.history['loss']"
      ],
      "metadata": {
        "colab": {
          "base_uri": "https://localhost:8080/"
        },
        "id": "FtQ0kVplNXDh",
        "outputId": "a5405cf6-5e75-4f5a-bbca-c6a5dd0a29f9"
      },
      "execution_count": 32,
      "outputs": [
        {
          "output_type": "execute_result",
          "data": {
            "text/plain": [
              "[5.55189323425293,\n",
              " 1.3329519033432007,\n",
              " 0.7611638903617859,\n",
              " 0.5999714136123657,\n",
              " 0.51708984375,\n",
              " 0.48185256123542786,\n",
              " 0.4906325340270996,\n",
              " 0.4658791720867157,\n",
              " 0.5232131481170654,\n",
              " 0.46783754229545593,\n",
              " 0.4396803081035614,\n",
              " 0.7002111077308655,\n",
              " 0.4786545932292938,\n",
              " 0.4294651746749878,\n",
              " 0.41840773820877075,\n",
              " 0.4142839312553406,\n",
              " 0.41754668951034546,\n",
              " 0.4412860572338104,\n",
              " 0.42963355779647827,\n",
              " 0.4391624629497528,\n",
              " 0.4060824513435364,\n",
              " 0.4299931526184082,\n",
              " 0.4726058840751648,\n",
              " 0.4292692542076111,\n",
              " 0.41867154836654663,\n",
              " 0.38238030672073364,\n",
              " 0.37793415784835815,\n",
              " 0.3920188546180725,\n",
              " 0.41015762090682983,\n",
              " 0.41860780119895935,\n",
              " 0.37608954310417175,\n",
              " 0.3668564558029175,\n",
              " 0.45792925357818604,\n",
              " 0.4182831645011902,\n",
              " 0.39072713255882263,\n",
              " 0.37473028898239136,\n",
              " 0.36602863669395447,\n",
              " 0.35973283648490906,\n",
              " 0.4102930426597595,\n",
              " 0.37049081921577454,\n",
              " 0.3848778307437897,\n",
              " 0.3542959988117218,\n",
              " 0.38737380504608154,\n",
              " 0.3606919050216675,\n",
              " 0.37305212020874023,\n",
              " 0.3673214316368103,\n",
              " 0.3526080548763275,\n",
              " 0.34637144207954407,\n",
              " 0.4295787811279297,\n",
              " 0.33512774109840393]"
            ]
          },
          "metadata": {},
          "execution_count": 32
        }
      ]
    },
    {
      "cell_type": "code",
      "source": [
        "model.history.history['accuracy']"
      ],
      "metadata": {
        "colab": {
          "base_uri": "https://localhost:8080/"
        },
        "id": "MlRcLSORNa9b",
        "outputId": "c10c3436-6f23-4bda-bf37-1f15c7ffa88d"
      },
      "execution_count": 33,
      "outputs": [
        {
          "output_type": "execute_result",
          "data": {
            "text/plain": [
              "[0.6081871390342712,\n",
              " 0.6081871390342712,\n",
              " 0.6111111044883728,\n",
              " 0.8070175647735596,\n",
              " 0.8508771657943726,\n",
              " 0.859649121761322,\n",
              " 0.8508771657943726,\n",
              " 0.8538011908531189,\n",
              " 0.8304093480110168,\n",
              " 0.8508771657943726,\n",
              " 0.8771929740905762,\n",
              " 0.46198830008506775,\n",
              " 0.8508771657943726,\n",
              " 0.8947368264198303,\n",
              " 0.9035087823867798,\n",
              " 0.9035087823867798,\n",
              " 0.8859649300575256,\n",
              " 0.8801169395446777,\n",
              " 0.8888888955116272,\n",
              " 0.8771929740905762,\n",
              " 0.8859649300575256,\n",
              " 0.8888888955116272,\n",
              " 0.8040935397148132,\n",
              " 0.8742690086364746,\n",
              " 0.8888888955116272,\n",
              " 0.8976607918739319,\n",
              " 0.8947368264198303,\n",
              " 0.8947368264198303,\n",
              " 0.8625730872154236,\n",
              " 0.8918128609657288,\n",
              " 0.8947368264198303,\n",
              " 0.9005848169326782,\n",
              " 0.8128654956817627,\n",
              " 0.8918128609657288,\n",
              " 0.8771929740905762,\n",
              " 0.8888888955116272,\n",
              " 0.8947368264198303,\n",
              " 0.8918128609657288,\n",
              " 0.8859649300575256,\n",
              " 0.8888888955116272,\n",
              " 0.8888888955116272,\n",
              " 0.9064327478408813,\n",
              " 0.8830409646034241,\n",
              " 0.8947368264198303,\n",
              " 0.9005848169326782,\n",
              " 0.8830409646034241,\n",
              " 0.9064327478408813,\n",
              " 0.9005848169326782,\n",
              " 0.8771929740905762,\n",
              " 0.9005848169326782]"
            ]
          },
          "metadata": {},
          "execution_count": 33
        }
      ]
    },
    {
      "cell_type": "code",
      "source": [
        "model.history.history['val_accuracy']"
      ],
      "metadata": {
        "colab": {
          "base_uri": "https://localhost:8080/"
        },
        "id": "5E5q0JGgNhZP",
        "outputId": "15c10458-9937-4f7a-9728-e0f7bf59ebd1"
      },
      "execution_count": 34,
      "outputs": [
        {
          "output_type": "execute_result",
          "data": {
            "text/plain": [
              "[0.7179487347602844,\n",
              " 0.7179487347602844,\n",
              " 0.8717948794364929,\n",
              " 0.8974359035491943,\n",
              " 0.8974359035491943,\n",
              " 0.8205128312110901,\n",
              " 0.8974359035491943,\n",
              " 0.8717948794364929,\n",
              " 0.8974359035491943,\n",
              " 0.8974359035491943,\n",
              " 0.8974359035491943,\n",
              " 0.8461538553237915,\n",
              " 0.8974359035491943,\n",
              " 0.8974359035491943,\n",
              " 0.8717948794364929,\n",
              " 0.8974359035491943,\n",
              " 0.8461538553237915,\n",
              " 0.9230769276618958,\n",
              " 0.8974359035491943,\n",
              " 0.8974359035491943,\n",
              " 0.8974359035491943,\n",
              " 0.8717948794364929,\n",
              " 0.8974359035491943,\n",
              " 0.8717948794364929,\n",
              " 0.8974359035491943,\n",
              " 0.8974359035491943,\n",
              " 0.8974359035491943,\n",
              " 0.8717948794364929,\n",
              " 0.8974359035491943,\n",
              " 0.8205128312110901,\n",
              " 0.8717948794364929,\n",
              " 0.8974359035491943,\n",
              " 0.8974359035491943,\n",
              " 0.8974359035491943,\n",
              " 0.9230769276618958,\n",
              " 0.8974359035491943,\n",
              " 0.8717948794364929,\n",
              " 0.8205128312110901,\n",
              " 0.8974359035491943,\n",
              " 0.8974359035491943,\n",
              " 0.9230769276618958,\n",
              " 0.8717948794364929,\n",
              " 0.9230769276618958,\n",
              " 0.8974359035491943,\n",
              " 0.8461538553237915,\n",
              " 0.8461538553237915,\n",
              " 0.8717948794364929,\n",
              " 0.8461538553237915,\n",
              " 0.9230769276618958,\n",
              " 0.8974359035491943]"
            ]
          },
          "metadata": {},
          "execution_count": 34
        }
      ]
    },
    {
      "cell_type": "code",
      "source": [
        "model.history.history['val_loss']"
      ],
      "metadata": {
        "colab": {
          "base_uri": "https://localhost:8080/"
        },
        "id": "_TlklSFTNmTi",
        "outputId": "c314bb81-66cb-4031-c9ea-36a642cf7862"
      },
      "execution_count": 35,
      "outputs": [
        {
          "output_type": "execute_result",
          "data": {
            "text/plain": [
              "[1.1949735879898071,\n",
              " 0.6248775720596313,\n",
              " 0.5370190739631653,\n",
              " 0.4627037048339844,\n",
              " 0.3783269226551056,\n",
              " 0.5232140421867371,\n",
              " 0.34726643562316895,\n",
              " 0.3863965570926666,\n",
              " 0.34864935278892517,\n",
              " 0.3443526029586792,\n",
              " 0.3690546452999115,\n",
              " 0.4134078919887543,\n",
              " 0.34364554286003113,\n",
              " 0.3460738956928253,\n",
              " 0.3892401158809662,\n",
              " 0.3449404537677765,\n",
              " 0.42340293526649475,\n",
              " 0.3510093688964844,\n",
              " 0.3360500931739807,\n",
              " 0.32158684730529785,\n",
              " 0.3373948633670807,\n",
              " 0.3644779324531555,\n",
              " 0.3150717318058014,\n",
              " 0.3670687973499298,\n",
              " 0.31310510635375977,\n",
              " 0.31848713755607605,\n",
              " 0.31379783153533936,\n",
              " 0.35204699635505676,\n",
              " 0.3356320261955261,\n",
              " 0.4077448844909668,\n",
              " 0.3055286407470703,\n",
              " 0.3006857633590698,\n",
              " 0.3293468654155731,\n",
              " 0.29726243019104004,\n",
              " 0.29944369196891785,\n",
              " 0.29393962025642395,\n",
              " 0.33422523736953735,\n",
              " 0.3920719027519226,\n",
              " 0.2805095613002777,\n",
              " 0.3262816071510315,\n",
              " 0.3110927641391754,\n",
              " 0.3712880313396454,\n",
              " 0.28874894976615906,\n",
              " 0.28277289867401123,\n",
              " 0.46525484323501587,\n",
              " 0.34594452381134033,\n",
              " 0.3407018184661865,\n",
              " 0.4245944917201996,\n",
              " 0.29986128211021423,\n",
              " 0.2785368263721466]"
            ]
          },
          "metadata": {},
          "execution_count": 35
        }
      ]
    },
    {
      "cell_type": "markdown",
      "source": [
        "##plotting the graph for the epochs with respect to the accuracy and loss and with the val_loss and val_accuracy"
      ],
      "metadata": {
        "id": "9wTJRvZTSg-A"
      }
    },
    {
      "cell_type": "code",
      "source": [
        "plt.figure(figsize=(6,6))\n",
        "plt.subplot(1,2,1)\n",
        "plt.title(\"training_report\")\n",
        "plt.plot(np.arange(50),model.history.history['loss'],color='r',label='training_loss')\n",
        "plt.plot(np.arange(50),model.history.history['accuracy'],color='g',label='training_accuracy')\n",
        "plt.legend(loc=0)\n",
        "plt.subplot(1,2,2)\n",
        "plt.plot(np.arange(50),model.history.history['val_loss'],color='r',label='val_loss')\n",
        "plt.plot(np.arange(50),model.history.history['val_accuracy'],color='g',label='val_accuracy')\n",
        "plt.legend(loc=0)\n",
        "plt.show()\n"
      ],
      "metadata": {
        "colab": {
          "base_uri": "https://localhost:8080/",
          "height": 390
        },
        "id": "_zjvqsUvNrpE",
        "outputId": "d4583c0b-71a9-4ae4-8c81-f12984005a3d"
      },
      "execution_count": 39,
      "outputs": [
        {
          "output_type": "display_data",
          "data": {
            "text/plain": [
              "<Figure size 432x432 with 2 Axes>"
            ],
            "image/png": "[encoded data removed]"
          },
          "metadata": {
            "needs_background": "light"
          }
        }
      ]
    },
    {
      "cell_type": "code",
      "source": [
        "y_test_pred=model.predict(x_test)"
      ],
      "metadata": {
        "colab": {
          "base_uri": "https://localhost:8080/"
        },
        "id": "v_Z68sdkOvdL",
        "outputId": "688bcda3-b181-4572-87be-58f9426553bc"
      },
      "execution_count": 40,
      "outputs": [
        {
          "output_type": "stream",
          "name": "stdout",
          "text": [
            "6/6 [==============================] - 0s 6ms/step\n"
          ]
        }
      ]
    },
    {
      "cell_type": "code",
      "source": [
        "y_test_pred[:5]"
      ],
      "metadata": {
        "colab": {
          "base_uri": "https://localhost:8080/"
        },
        "id": "orJ1_uVmPc98",
        "outputId": "61828147-bba6-447d-95c2-e2410244cd1f"
      },
      "execution_count": 42,
      "outputs": [
        {
          "output_type": "execute_result",
          "data": {
            "text/plain": [
              "array([[0.44990644],\n",
              "       [0.30909395],\n",
              "       [0.30909395],\n",
              "       [0.9831874 ],\n",
              "       [0.96899635]], dtype=float32)"
            ]
          },
          "metadata": {},
          "execution_count": 42
        }
      ]
    },
    {
      "cell_type": "code",
      "source": [
        "sol=[]\n",
        "for i in y_test_pred:\n",
        "  for j in i:\n",
        "    if j > 0.5 :\n",
        "      sol.append(1)\n",
        "    else:\n",
        "      sol.append(0)\n"
      ],
      "metadata": {
        "id": "N62Dwek2Pgwy"
      },
      "execution_count": 45,
      "outputs": []
    },
    {
      "cell_type": "code",
      "source": [
        "print(sol[:5])"
      ],
      "metadata": {
        "colab": {
          "base_uri": "https://localhost:8080/"
        },
        "id": "p05zgqPuPmM-",
        "outputId": "9d0fbfc4-3fd4-4c53-b0cb-b2c953b81b3d"
      },
      "execution_count": 46,
      "outputs": [
        {
          "output_type": "stream",
          "name": "stdout",
          "text": [
            "[0, 0, 0, 1, 1]\n"
          ]
        }
      ]
    },
    {
      "cell_type": "markdown",
      "source": [
        "##checking the model performance"
      ],
      "metadata": {
        "id": "e7l8ELwuS3EK"
      }
    },
    {
      "cell_type": "code",
      "source": [
        "from sklearn.metrics import confusion_matrix,classification_report,accuracy_score"
      ],
      "metadata": {
        "id": "__lbGJ6UQH9U"
      },
      "execution_count": 47,
      "outputs": []
    },
    {
      "cell_type": "code",
      "source": [
        "accuracy_score(y_test,sol)"
      ],
      "metadata": {
        "colab": {
          "base_uri": "https://localhost:8080/"
        },
        "id": "CNsmBWgRQQXc",
        "outputId": "f0d12cc4-b31b-4e65-dc6b-9ac827c7c9fe"
      },
      "execution_count": 50,
      "outputs": [
        {
          "output_type": "execute_result",
          "data": {
            "text/plain": [
              "0.9574468085106383"
            ]
          },
          "metadata": {},
          "execution_count": 50
        }
      ]
    },
    {
      "cell_type": "code",
      "source": [
        "confusion_matrix(y_test,sol)"
      ],
      "metadata": {
        "colab": {
          "base_uri": "https://localhost:8080/"
        },
        "id": "xD1g1meDQUzn",
        "outputId": "c9a86219-2b10-4d00-a017-9922c4e04870"
      },
      "execution_count": 51,
      "outputs": [
        {
          "output_type": "execute_result",
          "data": {
            "text/plain": [
              "array([[ 62,   5],\n",
              "       [  3, 118]])"
            ]
          },
          "metadata": {},
          "execution_count": 51
        }
      ]
    },
    {
      "cell_type": "code",
      "source": [
        "print(classification_report(y_test,sol))"
      ],
      "metadata": {
        "colab": {
          "base_uri": "https://localhost:8080/"
        },
        "id": "g01eYy2uQhNg",
        "outputId": "2b408306-d3eb-457a-eb3f-770ccbae17f6"
      },
      "execution_count": 52,
      "outputs": [
        {
          "output_type": "stream",
          "name": "stdout",
          "text": [
            "              precision    recall  f1-score   support\n",
            "\n",
            "           0       0.95      0.93      0.94        67\n",
            "           1       0.96      0.98      0.97       121\n",
            "\n",
            "    accuracy                           0.96       188\n",
            "   macro avg       0.96      0.95      0.95       188\n",
            "weighted avg       0.96      0.96      0.96       188\n",
            "\n"
          ]
        }
      ]
    },
    {
      "cell_type": "markdown",
      "source": [
        "##using the data and predicting the model and checking the model"
      ],
      "metadata": {
        "id": "ImDN_t9BSvdI"
      }
    },
    {
      "cell_type": "code",
      "source": [
        "c=[]\n",
        "for i in x_test.iloc[0]:\n",
        "  c.append(i)"
      ],
      "metadata": {
        "id": "tat1M6GQQyYH"
      },
      "execution_count": 54,
      "outputs": []
    },
    {
      "cell_type": "code",
      "source": [
        "result=model.predict([c])"
      ],
      "metadata": {
        "colab": {
          "base_uri": "https://localhost:8080/"
        },
        "id": "kNrAG09nQndN",
        "outputId": "2e7ada48-8349-4473-aa95-3e16c869211c"
      },
      "execution_count": 57,
      "outputs": [
        {
          "output_type": "stream",
          "name": "stdout",
          "text": [
            "1/1 [==============================] - 0s 132ms/step\n"
          ]
        }
      ]
    },
    {
      "cell_type": "code",
      "source": [
        "for i in result:\n",
        "  if i>0.5:\n",
        "    print(\"m\")\n",
        "  else:\n",
        "    print('B')"
      ],
      "metadata": {
        "colab": {
          "base_uri": "https://localhost:8080/"
        },
        "id": "RK7RqRHEQ8zN",
        "outputId": "5596f414-45df-426b-a2d9-1c92f9d6bd02"
      },
      "execution_count": 58,
      "outputs": [
        {
          "output_type": "stream",
          "name": "stdout",
          "text": [
            "B\n"
          ]
        }
      ]
    },
    {
      "cell_type": "code",
      "source": [],
      "metadata": {
        "id": "ocMjkfd_RRqC"
      },
      "execution_count": null,
      "outputs": []
    }
  ]
}